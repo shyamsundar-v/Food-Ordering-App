{
  "cells": [
    {
      "cell_type": "markdown",
      "metadata": {
        "id": "view-in-github",
        "colab_type": "text"
      },
      "source": [
        "<a href=\"https://colab.research.google.com/github/shyamsundar-v/Food-Ordering-App/blob/main/Admin.ipynb\" target=\"_parent\"><img src=\"https://colab.research.google.com/assets/colab-badge.svg\" alt=\"Open In Colab\"/></a>"
      ]
    },
    {
      "cell_type": "code",
      "execution_count": 1,
      "id": "295cce95",
      "metadata": {
        "id": "295cce95"
      },
      "outputs": [],
      "source": [
        "admin_keys = {'Shyam_Sundar':'Shyam_Sundar@363'}\n",
        "\n",
        "inventory = {1 :{'ItemName':'Tandoori Chicken [4 pieces]','ItemId':1,'Price':240},\n",
        "             2:{'ItemName':'Vegan Burger','ItemId':2,'Price':320},\n",
        "             3 : {'ItemName':'Truffle Cake [500gm]','ItemId':3,'Price':900}}\n",
        "\n",
        "def add_new_item():\n",
        "  ItemName = input('Enter Item Name : ')\n",
        "  ItemId = int(input('Enter ItemId : '))\n",
        "  Price = int(input('Enter Item Price : '))\n",
        "  inventory[ItemId]={'ItemName':ItemName,'ItemId':ItemId,'Price':Price}\n",
        "  print('The Item '+ItemName+' with ItemID '+ItemId+' is successfully added')\n",
        "  return inventory\n",
        "\n",
        "def edit_from_item():\n",
        "  item = int(input('Enter the ItemId which you want to edit :'))\n",
        "  inventory[item]['ItemName']=input('Enter the Item Name :')\n",
        "  inventory[item]['ItemId'] =int(input('Enter ItemId : '))\n",
        "  inventory[item]['Price'] = int(input('Enter Item Price : '))\n",
        "  return inventory\n",
        "\n",
        "def show_inventory():\n",
        "  print('*'*10+'The Following are the food items available'+'*'*10)\n",
        "  for item in inventory:\n",
        "    print('Item Name :'+inventory[item]['ItemName'])\n",
        "    print('Item Id :'+inventory[item]['ItemId'])\n",
        "    print('Item Price :'+inventory[item]['Price'])\n",
        "\n",
        "def remove_item():\n",
        "  item = int(input('Enter the ItemId which you want to remove :'))\n",
        "  inventory.pop(item)\n",
        "  print('Item removed successfully')\n",
        "  return inventory"
      ]
    },
    {
      "cell_type": "code",
      "source": [
        ""
      ],
      "metadata": {
        "id": "wW04DXMv6DcJ"
      },
      "id": "wW04DXMv6DcJ",
      "execution_count": null,
      "outputs": []
    }
  ],
  "metadata": {
    "kernelspec": {
      "display_name": "Python 3 (ipykernel)",
      "language": "python",
      "name": "python3"
    },
    "language_info": {
      "codemirror_mode": {
        "name": "ipython",
        "version": 3
      },
      "file_extension": ".py",
      "mimetype": "text/x-python",
      "name": "python",
      "nbconvert_exporter": "python",
      "pygments_lexer": "ipython3",
      "version": "3.9.6"
    },
    "colab": {
      "name": "Admin.ipynb",
      "provenance": [],
      "collapsed_sections": [],
      "include_colab_link": true
    }
  },
  "nbformat": 4,
  "nbformat_minor": 5
}