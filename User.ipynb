{
  "cells": [
    {
      "cell_type": "markdown",
      "metadata": {
        "id": "view-in-github",
        "colab_type": "text"
      },
      "source": [
        "<a href=\"https://colab.research.google.com/github/shyamsundar-v/Food-Ordering-App/blob/main/User.ipynb\" target=\"_parent\"><img src=\"https://colab.research.google.com/assets/colab-badge.svg\" alt=\"Open In Colab\"/></a>"
      ]
    },
    {
      "cell_type": "code",
      "source": [
        "from google.colab import drive\n",
        "drive.mount('/content/gdrive/')"
      ],
      "metadata": {
        "colab": {
          "base_uri": "https://localhost:8080/"
        },
        "id": "-Nv7CFmJ_y7c",
        "outputId": "35666bb1-7903-41a4-c920-ea9f84a89d9a"
      },
      "id": "-Nv7CFmJ_y7c",
      "execution_count": null,
      "outputs": [
        {
          "output_type": "stream",
          "name": "stdout",
          "text": [
            "Mounted at /content/gdrive/\n"
          ]
        }
      ]
    },
    {
      "cell_type": "code",
      "source": [
        "class Admin:\n",
        "\n",
        "  admin_keys = {'Shyam_Sundar':'Shyam_Sundar@363'}\n",
        "  inventory = {1 :{'ItemName':'Tandoori Chicken [4 pieces]','ItemId':1,'Price':240},\n",
        "                2:{'ItemName':'Vegan Burger','ItemId':2,'Price':320},\n",
        "                3 : {'ItemName':'Truffle Cake [500gm]','ItemId':3,'Price':900}}\n",
        "\n",
        "  def add_new_item(self):\n",
        "    ItemName = input('Enter Item Name : ')\n",
        "    ItemId = int(input('Enter ItemId : '))\n",
        "    Price = int(input('Enter Item Price : '))\n",
        "    Admin.inventory[ItemId]={'ItemName':ItemName,'ItemId':ItemId,'Price':Price}\n",
        "    print('The Item '+ItemName+' with ItemID '+str(ItemId)+' is successfully added')\n",
        "    return Admin.inventory\n",
        "\n",
        "  def edit_from_item(self):\n",
        "    item = int(input('Enter the ItemId which you want to edit :'))\n",
        "    Admin.inventory[item]['ItemName']=input('Enter the Item Name :')\n",
        "    Admin.inventory[item]['ItemId'] =int(input('Enter ItemId : '))\n",
        "    Admin.inventory[item]['Price'] = int(input('Enter Item Price : '))\n",
        "    return Admin.inventory\n",
        "\n",
        "  def show_inventory(self):\n",
        "      print('*'*10+'The Following are the food items available'+'*'*10)\n",
        "      for item in Admin.inventory:\n",
        "        print('Item Name :'+Admin.inventory[item]['ItemName'])\n",
        "        print('Item Id :'+str(Admin.inventory[item]['ItemId']))\n",
        "        print('Item Price :'+str(Admin.inventory[item]['Price']))\n",
        "\n",
        "  def remove_item(self):\n",
        "      item = int(input('Enter the ItemId which you want to remove :'))\n",
        "      Admin.inventory.pop(item)\n",
        "      print('Item removed successfully')\n",
        "      return Admin.inventory"
      ],
      "metadata": {
        "id": "ImL6n3phNsBB"
      },
      "id": "ImL6n3phNsBB",
      "execution_count": 2,
      "outputs": []
    },
    {
      "cell_type": "code",
      "source": [
        "\n",
        "class User : \n",
        "    ad = Admin()\n",
        "   \n",
        "    login_info = {'Username':'Shyam_Sundar','phoneno':7894561230,'EmailId':'shyam@gmail.com','Address':'Vizag','Password':'Shyam@363'}\n",
        "\n",
        "    def __init__(self,name,phoneno,emailid,address,password):\n",
        "      \n",
        "      self.name=name\n",
        "      self.phoneno = phoneno\n",
        "      self.emaidid=emailid\n",
        "      self.address=address\n",
        "      self.password=password\n",
        "      User.login_info[self.name]=self.password\n",
        "      self.profile = {'Name':name}\n",
        "      self.order_history = {}\n",
        "\n",
        "    def login(cls,username,password):\n",
        "      if cls.login_info.get(username)==password:\n",
        "        # print('You are successfully logged in...')\n",
        "        return True\n",
        "      else:\n",
        "        # print('SORRY! You have entered wrong credentials')\n",
        "        return False\n",
        "\n",
        "    def place_order(self):\n",
        "      print('What is the food that you want to order')\n",
        "      print(User.ad.show_inventory())\n",
        "      user_choice = input('If you want to order then select Yes or No ')\n",
        "      if user_choice.lower()=='yes':\n",
        "        n=int(input('Enter how many items you want to order :'))\n",
        "        cost=0\n",
        "        for i in range(n):\n",
        "          ItemId = int(input('Enter the item id here : '))\n",
        "          quantity = int(input('Enter ther quantity of '+User.ad.inventory[ItemId]['ItemName']+'here :'))\n",
        "          cost += User.ad.inventory[ItemId]['Price']*quantity\n",
        "          self.order_history[ItemId]={'ItemName':User.ad.inventory[ItemId]['ItemName'],'Price':User.ad.inventory[ItemId]['Price'],'Quantity':quantity,'Price':cost}\n",
        "        confirmation = input('Please confirm to place the order by  entering Yes or No\\n')\n",
        "        if confirmation.lower() == 'yes':\n",
        "          # print('Your Item Name is :'+User.ad.inventory[ItemId]['ItemName'])\n",
        "          # print('Your Item Id is :'+str(User.ad.inventory[ItemId]['ItemId']))\n",
        "          # print('Your Item price is :'+str(User.ad.inventory[ItemId]['Price']))\n",
        "          # print('Total Cost is :'+str(cost))\n",
        "          for key,value  in self.order_history.items():\n",
        "            print(key,'-',value)\n",
        "          print(\"You're order is ssuccessfully placed\")\n",
        "        elif confirmation.lower()=='no':\n",
        "          print('This order is cancelled you can get back again')\n",
        "        else:\n",
        "          print('Inavlid Choice')\n",
        "      elif user_choice.lower()=='no':\n",
        "        print('As you entered No so we have cancelled this order')\n",
        "      else:\n",
        "        print('Please enter valid choice')\n",
        "\n",
        "    def registration(self):\n",
        "     name=input('Enter you FullName : ')\n",
        "     phoneno=input('Enter your Phone No : ')\n",
        "     emailid=input('Enter your EmailId : ')\n",
        "     address = input('Enter your address : ')\n",
        "     password = input('Enter your Password : ')\n",
        "     new_user=User(name,phoneno,emailid,address,password)\n",
        "     print('You have successfully registered')\n",
        "     return True\n",
        "      "
      ],
      "metadata": {
        "id": "uGkAf_KMAirb"
      },
      "id": "uGkAf_KMAirb",
      "execution_count": 3,
      "outputs": []
    },
    {
      "cell_type": "code",
      "source": [
        "\n",
        "inp = int(input('How do you want to login\\n 1.Admin\\n 2.User\\n 3.Exit\\n'))\n",
        "aa = Admin()\n",
        "user = User('Virat',78945611230,'virat@gmail.com','Vizag','Virat@363')\n",
        "\n",
        "if inp==1:\n",
        "  Username = input('Enter the AdminName : ')\n",
        "  Password = input('Enter the Password :')\n",
        "  if aa.admin_keys[Username]==Password:\n",
        "    print('*'*10+\" You're successfully logged in\"+'*'*10)\n",
        "    admin_crawler=True\n",
        "    while admin_crawler:\n",
        "      adm_choice = int(input('Hi! Admin, Please choose the following services from the below\\n 1.Add New Item\\n 2. Edit Item\\n 3.Show Food Menu\\n 4.Remove Item\\n 5.Exit\\n'))\n",
        "      if adm_choice==1:\n",
        "        aa.add_new_item()\n",
        "      elif adm_choice==2:\n",
        "        aa.edit_from_item()\n",
        "      elif adm_choice==3:\n",
        "        aa.show_inventory()\n",
        "      elif adm_choice==4:\n",
        "        aa.remove_item()\n",
        "      elif adm_choice==5:\n",
        "        print(f\"You have exited from Admin Panel{Username}\")\n",
        "        admin_crawler=False\n",
        "      else:\n",
        "        print('Please choose valid option')\n",
        "  else:\n",
        "    print('SORRY! Yoou have netered wrong credentials')\n",
        "\n",
        "elif inp==2:\n",
        "  print('*'*10+'Welcome to the User Panel'+'*'*10)\n",
        "  print('*'*10+'Do you have a account'+'*'*10)\n",
        "  account = input('Please enter Yes or No :')\n",
        "  if account.lower()=='no':\n",
        "    user.registration()\n",
        "  elif account.lower()=='yes':\n",
        "       username = input('Enter the username : ')\n",
        "       password = input('Enter the password : ')\n",
        "       if user.login(username,password):\n",
        "        print(f\"You're successfully logged in {username}\")\n",
        "        user_crawler=True\n",
        "        while user_crawler:\n",
        "          user_choice = int(input(f\"{username}, Enter the options\\n 1.Place the Order\\n 2.Order History\\n 3.Exit\\n\"))\n",
        "          if user_choice==1:\n",
        "            user.place_order()\n",
        "          elif user_choice==2:\n",
        "            print(f\"{username}, Here is your order history\")\n",
        "            for key,value  in user.order_history.items():\n",
        "              print(key,'-',value)\n",
        "          elif user_choice==3:\n",
        "            # user_crawle=False\n",
        "            print('You have successfully logged out')\n",
        "            user_crawle=False\n",
        "            exit()\n",
        "        else:\n",
        "          print('SORRY!, You have entered wrong credentials')\n",
        "  else:\n",
        "      print('Please choose a valid option')  \n",
        "else:\n",
        "  inp==3\n",
        "  exit()\n",
        "  print('-----')\n",
        "\n",
        "    \n",
        "\n"
      ],
      "metadata": {
        "colab": {
          "base_uri": "https://localhost:8080/"
        },
        "id": "hE9B8baNP-YY",
        "outputId": "aa311921-8ceb-4797-cc94-08c01917ccf2"
      },
      "id": "hE9B8baNP-YY",
      "execution_count": 4,
      "outputs": [
        {
          "output_type": "stream",
          "name": "stdout",
          "text": [
            "How do you want to login\n",
            " 1.Admin\n",
            " 2.User\n",
            " 3.Exit\n",
            "3\n",
            "-----\n"
          ]
        }
      ]
    },
    {
      "cell_type": "code",
      "source": [
        ""
      ],
      "metadata": {
        "id": "j-78-0IQVIlI"
      },
      "id": "j-78-0IQVIlI",
      "execution_count": null,
      "outputs": []
    }
  ],
  "metadata": {
    "kernelspec": {
      "display_name": "Python 3 (ipykernel)",
      "language": "python",
      "name": "python3"
    },
    "language_info": {
      "codemirror_mode": {
        "name": "ipython",
        "version": 3
      },
      "file_extension": ".py",
      "mimetype": "text/x-python",
      "name": "python",
      "nbconvert_exporter": "python",
      "pygments_lexer": "ipython3",
      "version": "3.9.6"
    },
    "colab": {
      "name": "User.ipynb",
      "provenance": [],
      "collapsed_sections": [],
      "include_colab_link": true
    }
  },
  "nbformat": 4,
  "nbformat_minor": 5
}