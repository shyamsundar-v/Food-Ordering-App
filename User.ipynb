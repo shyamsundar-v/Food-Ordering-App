{
  "cells": [
    {
      "cell_type": "markdown",
      "metadata": {
        "id": "view-in-github",
        "colab_type": "text"
      },
      "source": [
        "<a href=\"https://colab.research.google.com/github/shyamsundar-v/Food-Ordering-App/blob/main/User.ipynb\" target=\"_parent\"><img src=\"https://colab.research.google.com/assets/colab-badge.svg\" alt=\"Open In Colab\"/></a>"
      ]
    },
    {
      "cell_type": "code",
      "source": [
        "from google.colab import drive\n",
        "drive.mount('/content/gdrive/')"
      ],
      "metadata": {
        "colab": {
          "base_uri": "https://localhost:8080/"
        },
        "id": "-Nv7CFmJ_y7c",
        "outputId": "35666bb1-7903-41a4-c920-ea9f84a89d9a"
      },
      "id": "-Nv7CFmJ_y7c",
      "execution_count": null,
      "outputs": [
        {
          "output_type": "stream",
          "name": "stdout",
          "text": [
            "Mounted at /content/gdrive/\n"
          ]
        }
      ]
    },
    {
      "cell_type": "code",
      "source": [
        "class Admin:\n",
        "\n",
        "  admin_keys = {'Shyam_Sundar':'Shyam_Sundar@363'}\n",
        "  inventory = {1 :{'ItemName':'Tandoori Chicken [4 pieces]','ItemId':1,'Price':240},\n",
        "                2:{'ItemName':'Vegan Burger','ItemId':2,'Price':320},\n",
        "                3 : {'ItemName':'Truffle Cake [500gm]','ItemId':3,'Price':900}}\n",
        "\n",
        "  def add_new_item():\n",
        "    ItemName = input('Enter Item Name : ')\n",
        "    ItemId = int(input('Enter ItemId : '))\n",
        "    Price = int(input('Enter Item Price : '))\n",
        "    inventory[ItemId]={'ItemName':ItemName,'ItemId':ItemId,'Price':Price}\n",
        "    print('The Item '+ItemName+' with ItemID '+ItemId+' is successfully added')\n",
        "    return inventory\n",
        "\n",
        "  def edit_from_item():\n",
        "    item = int(input('Enter the ItemId which you want to edit :'))\n",
        "    inventory[item]['ItemName']=input('Enter the Item Name :')\n",
        "    inventory[item]['ItemId'] =int(input('Enter ItemId : '))\n",
        "    inventory[item]['Price'] = int(input('Enter Item Price : '))\n",
        "    return inventory\n",
        "\n",
        "  def show_inventory():\n",
        "      print('*'*10+'The Following are the food items available'+'*'*10)\n",
        "      for item in inventory:\n",
        "        print('Item Name :'+inventory[item]['ItemName'])\n",
        "        print('Item Id :'+inventory[item]['ItemId'])\n",
        "        print('Item Price :'+inventory[item]['Price'])\n",
        "\n",
        "  def remove_item():\n",
        "      item = int(input('Enter the ItemId which you want to remove :'))\n",
        "      inventory.pop(item)\n",
        "      print('Item removed successfully')\n",
        "      return inventory"
      ],
      "metadata": {
        "id": "4rQ6c3ME6gpn"
      },
      "id": "4rQ6c3ME6gpn",
      "execution_count": 14,
      "outputs": []
    },
    {
      "cell_type": "code",
      "source": [
        "\n",
        "class User:\n",
        "    ad = Admin()\n",
        "   \n",
        "    login_info = {'Username':'Shyam_Sundar','phoneno':7894561230,'EmailId':'shyam@gmail.com','Address':'Vizag','Password':'Shyam@363'}\n",
        "\n",
        "    def __init__(self,name,phoneno,emailid,address,password):\n",
        "      \n",
        "      self.name=name\n",
        "      self.phoneno = phoneno\n",
        "      self.emaidid=emailid\n",
        "      self.address=address\n",
        "      self.password=password\n",
        "      User.login_info[self.name]=self.password\n",
        "      self.profile = {'Name':name}\n",
        "      self.order_history = {}\n",
        "\n",
        "    def login(cls,username,password):\n",
        "      if cls.login_info.get(username)==password:\n",
        "        print('You are successfully logged in...')\n",
        "        return True\n",
        "      else:\n",
        "        print('SORRY! You have entered wrong credentials')\n",
        "        return False\n",
        "\n",
        "    def place_order():\n",
        "      print('What is the food that you want to order')\n",
        "      print(ad.show_inventory())\n",
        "      user_choice = int(input('If you want to order then select 1.Yes 2.N0 '))\n",
        "      if user_choice==1:\n",
        "        n=int(input('Enter how many items you want to order :'))\n",
        "        cost=0\n",
        "        for i in range(n):\n",
        "          ItemId = int(input('Enter the item id here : '))\n",
        "          quantity = int('Enter ther quantity of '+ad.inventory[ItemId]['ItemName']+'here :')\n",
        "          cost += ad.inventory[ItemId]['Price']*quantity\n",
        "          self.order_history[id]={'ItemName':ad.inventory[ItemId]['ItemName'],'Price':ad.inventory[ItemId]['Price'],'Quantity':quantity}\n",
        "        confirmation = input('Please confirm to place the order by  entering Yes or No')\n",
        "        if confirmation.lower() == 'yes':\n",
        "          print('Your Item Name is :'+ad.inventory[ItemId]['ItemName'])\n",
        "          print('Your Item Id is :'+ad.inventory[ItemId]['ItemId'])\n",
        "          print('Your Item price is :'+ad.inventory[ItemId]['Price'])\n",
        "          print('Total Cost is :'+cost)\n",
        "          print(\"You're order is ssuccessfully placed\")\n",
        "        elif confirmation.lower()=='no':\n",
        "          print('This order is cancelled you can get back again')\n",
        "        else:\n",
        "          print('Inavlid Choice')\n",
        "      elif user_choice==2:\n",
        "        print('As you entered No so we have cancelled this order')\n",
        "      else:\n",
        "        print('Please enter valid choice')\n",
        "\n",
        "    def registration():\n",
        "     name=input('Enter you FullName : ')\n",
        "     phoneno=input('Enter your Phone No : ')\n",
        "     emailid=input('Enter your EmailId : ')\n",
        "     address = input('Enter your address : ')\n",
        "     password = input('Enter your Password : ')\n",
        "     new_user=User(name,phoneno,emailid,address,password)\n",
        "     print('You have successfully registered')\n",
        "     return True\n",
        "      "
      ],
      "metadata": {
        "id": "uGkAf_KMAirb"
      },
      "id": "uGkAf_KMAirb",
      "execution_count": 15,
      "outputs": []
    },
    {
      "cell_type": "code",
      "source": [
        "\n",
        "inp = int(input('How do you want to login\\n 1.Admin\\n 2.User\\n 3.Exit\\n'))\n",
        "aa = Admin()\n",
        "user = User('Virat',78945611230,'virat@gmail.com','Vizag','Virat@363')\n",
        "\n",
        "if inp==1:\n",
        "  Username = input('Enter the AdminName : ')\n",
        "  Password = input('Enter the Password :')\n",
        "  if aa.admin_keys[Username]==Password:\n",
        "    print('*'*10+\" You're successfully logged in\"+'*'*10)\n",
        "    admin_crawler=True\n",
        "    while admin_crawler:\n",
        "      adm_choice = int(input('Hi! Admin, Please choose the following services from the below\\n 1.Add New Item\\n 2. Edit Item\\n 3.Show Food Menu\\n 4.Remove Item\\n 5.Exit\\n'))\n",
        "      if adm_choice==1:\n",
        "        aa.add_new_item()\n",
        "      elif adm_choice==2:\n",
        "        aa.edit_from_item()\n",
        "      elif adm_choice==3:\n",
        "        aa.show_inventory()\n",
        "      elif adm_choice==4:\n",
        "        aa.remove_item()\n",
        "      elif adm_choice==5:\n",
        "        print(f\"You have exited from Admin Panel{Username}\")\n",
        "        admin_crawler=False\n",
        "      else:\n",
        "        print('Please choose valid option')\n",
        "  else:\n",
        "    print('SORRY! Yoou have netered wrong credentials')\n",
        "\n",
        "elif inp==2:\n",
        "  print('*'*10+'Welcome to the User Panel'+'*'*10)\n",
        "  print('*'*10+'Do you have a account'+'*'*10)\n",
        "  account = int(input('Please enter Yes or No :'))\n",
        "  if account.lower()=='no':\n",
        "    user.registration()\n",
        "  else:\n",
        "    account.lower()=='yes'\n",
        "    username = input('Enter the username : ')\n",
        "    password = input('Enter the password : ')\n",
        "    if user.login(username,password):\n",
        "      print(f\"You're successfully logged in {username}\")\n",
        "      user_crawle=True\n",
        "      while user_crawler:\n",
        "        user_choice = int(input(f\"{username}, Enter the options\\n 1.Place the Order\\n 2.Order History\\n 3.Exit\"))\n",
        "        if user_choice==1:\n",
        "          user.place_order()\n",
        "        elif user_choice==2:\n",
        "          print(f\"{username}, Here is your order history\")\n",
        "          print(user.order_history())\n",
        "        elif user_choice==3:\n",
        "          user_crawle=False\n",
        "          print('You have successfully logged out')\n",
        "    else:\n",
        "      print('SORRY!, You have entered wrong credentials')\n",
        "else:\n",
        "  exit()\n",
        "\n",
        "    \n",
        "\n"
      ],
      "metadata": {
        "colab": {
          "base_uri": "https://localhost:8080/",
          "height": 495
        },
        "id": "hE9B8baNP-YY",
        "outputId": "0de7cfde-3147-4da3-d1b2-34fdd2f7661e"
      },
      "id": "hE9B8baNP-YY",
      "execution_count": 17,
      "outputs": [
        {
          "name": "stdout",
          "output_type": "stream",
          "text": [
            "How do you want to login\n",
            " 1.Admin\n",
            " 2.User\n",
            " 3.Exit\n",
            "1\n",
            "Enter the AdminName : Shyam_Sundar\n",
            "Enter the Password :Shyam_Sundar@363\n",
            "********** You're successfully logged in**********\n",
            "Hi! Admin, Please choose the following services from the below\n",
            " 1.Add New Item\n",
            " 2. Edit Item\n",
            " 3.Show Food Menu\n",
            " 4.Remove Item\n",
            " 5.Exit1\n"
          ]
        },
        {
          "output_type": "error",
          "ename": "TypeError",
          "evalue": "ignored",
          "traceback": [
            "\u001b[0;31m---------------------------------------------------------------------------\u001b[0m",
            "\u001b[0;31mTypeError\u001b[0m                                 Traceback (most recent call last)",
            "\u001b[0;32m<ipython-input-17-4bfd5d30d291>\u001b[0m in \u001b[0;36m<module>\u001b[0;34m()\u001b[0m\n\u001b[1;32m     13\u001b[0m       \u001b[0madm_choice\u001b[0m \u001b[0;34m=\u001b[0m \u001b[0mint\u001b[0m\u001b[0;34m(\u001b[0m\u001b[0minput\u001b[0m\u001b[0;34m(\u001b[0m\u001b[0;34m'Hi! Admin, Please choose the following services from the below\\n 1.Add New Item\\n 2. Edit Item\\n 3.Show Food Menu\\n 4.Remove Item\\n 5.Exit'\u001b[0m\u001b[0;34m)\u001b[0m\u001b[0;34m)\u001b[0m\u001b[0;34m\u001b[0m\u001b[0;34m\u001b[0m\u001b[0m\n\u001b[1;32m     14\u001b[0m       \u001b[0;32mif\u001b[0m \u001b[0madm_choice\u001b[0m\u001b[0;34m==\u001b[0m\u001b[0;36m1\u001b[0m\u001b[0;34m:\u001b[0m\u001b[0;34m\u001b[0m\u001b[0;34m\u001b[0m\u001b[0m\n\u001b[0;32m---> 15\u001b[0;31m         \u001b[0maa\u001b[0m\u001b[0;34m.\u001b[0m\u001b[0madd_new_item\u001b[0m\u001b[0;34m(\u001b[0m\u001b[0;34m)\u001b[0m\u001b[0;34m\u001b[0m\u001b[0;34m\u001b[0m\u001b[0m\n\u001b[0m\u001b[1;32m     16\u001b[0m       \u001b[0;32melif\u001b[0m \u001b[0madm_choice\u001b[0m\u001b[0;34m==\u001b[0m\u001b[0;36m2\u001b[0m\u001b[0;34m:\u001b[0m\u001b[0;34m\u001b[0m\u001b[0;34m\u001b[0m\u001b[0m\n\u001b[1;32m     17\u001b[0m         \u001b[0maa\u001b[0m\u001b[0;34m.\u001b[0m\u001b[0medit_from_item\u001b[0m\u001b[0;34m(\u001b[0m\u001b[0;34m)\u001b[0m\u001b[0;34m\u001b[0m\u001b[0;34m\u001b[0m\u001b[0m\n",
            "\u001b[0;31mTypeError\u001b[0m: add_new_item() takes 0 positional arguments but 1 was given"
          ]
        }
      ]
    },
    {
      "cell_type": "code",
      "source": [
        ""
      ],
      "metadata": {
        "id": "j-78-0IQVIlI"
      },
      "id": "j-78-0IQVIlI",
      "execution_count": null,
      "outputs": []
    }
  ],
  "metadata": {
    "kernelspec": {
      "display_name": "Python 3 (ipykernel)",
      "language": "python",
      "name": "python3"
    },
    "language_info": {
      "codemirror_mode": {
        "name": "ipython",
        "version": 3
      },
      "file_extension": ".py",
      "mimetype": "text/x-python",
      "name": "python",
      "nbconvert_exporter": "python",
      "pygments_lexer": "ipython3",
      "version": "3.9.6"
    },
    "colab": {
      "name": "User.ipynb",
      "provenance": [],
      "include_colab_link": true
    }
  },
  "nbformat": 4,
  "nbformat_minor": 5
}